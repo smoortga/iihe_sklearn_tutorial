{
 "cells": [
  {
   "cell_type": "markdown",
   "metadata": {
    "slideshow": {
     "slide_type": "slide"
    }
   },
   "source": [
    "<center>\n",
    "    <img src=\"img/CMS_Jets.png\" width=\"40%\" />\n",
    "    <br />\n",
    "    <h1>Implementing a Charm Tagger with Scikit-Learn</h1>\n",
    "    <br /><br />\n",
    "    Seth Moortgat, December 14, 2015\n",
    "    <br /><br />\n",
    "    Machine Learning Seminar @ IIHE\n",
    "</center>"
   ]
  },
  {
   "cell_type": "markdown",
   "metadata": {
    "slideshow": {
     "slide_type": "slide"
    }
   },
   "source": [
    "<center>\n",
    "    <h1> Overview: What is a charm tagger?\n",
    "    <img src=\"img/CSV.png\" width=\"40%\" />\n",
    "</center>\n",
    "* Charm tagging in CMS: Exploit the lifetime of D mesons \n",
    "→ travels some distance in the tracker before it decays = secondary vertex (SV) with displaced tracks\n",
    "* Combine information from Secondary Vertices, displaced tracks and soft leptons inside the jet to identify charm-quark jets from bottom- or light-flavour jets."
   ]
  },
  {
   "cell_type": "markdown",
   "metadata": {
    "slideshow": {
     "slide_type": "subslide"
    }
   },
   "source": [
    "<center>\n",
    "    <h1> Use Multivariate Analysis (MVA) techniques\n",
    "    <img src=\"img/MVA.png\" width=\"80%\" />\n",
    "</center>"
   ]
  },
  {
   "cell_type": "code",
   "execution_count": 1,
   "metadata": {
    "collapsed": true,
    "slideshow": {
     "slide_type": "slide"
    }
   },
   "outputs": [],
   "source": [
    "%matplotlib inline\n",
    "from matplotlib import pyplot as plt\n",
    "plt.rcParams[\"figure.figsize\"] = (8, 8)\n",
    "plt.rcParams[\"figure.max_open_warning\"] = -1\n",
    "\n",
    "# Print options\n",
    "import numpy as np\n",
    "np.set_printoptions(precision=3)"
   ]
  },
  {
   "cell_type": "code",
   "execution_count": null,
   "metadata": {
    "collapsed": true,
    "slideshow": {
     "slide_type": "slide"
    }
   },
   "outputs": [],
   "source": [
    "variables = [\n",
    "    # Displaced Tracks\n",
    "  \"trackSip2dSig_0\", \"trackSip2dSig_1\",\n",
    "  \"trackSip3dSig_0\", \"trackSip3dSig_1\",\n",
    "  \"trackPtRel_0\", \"trackPtRel_1\",\n",
    "  \"trackPPar_0\", \"trackPPar_1\",\n",
    "  \"trackEtaRel_0\",\"trackEtaRel_1\",\n",
    "  \"trackDeltaR_0\", \"trackDeltaR_1\",\n",
    "  \"trackPtRatio_0\", \"trackPtRatio_1\",\n",
    "  \"trackPParRatio_0\", \"trackPParRatio_1\",\n",
    "  \"trackJetDist_0\",\"trackJetDist_1\",\n",
    "  \"trackDecayLenVal_0\", \"trackDecayLenVal_1\",\n",
    "  \"trackSip2dSigAboveCharm_0\",\n",
    "  \"trackSip3dSigAboveCharm_0\",\n",
    "  \"trackSumJetEtRatio\",\n",
    "  \"trackSumJetDeltaR\",\n",
    "    # Secondary Vertex\n",
    "  \"vertexMass_0\",\n",
    "  \"vertexEnergyRatio_0\",\n",
    "  \"flightDistance2dSig_0\",\n",
    "  \"flightDistance3dSig_0\",\n",
    "  \"vertexJetDeltaR_0\",\n",
    "  \"massVertexEnergyFraction_0\",\n",
    "  \"vertexBoostOverSqrtJetPt_0\",\n",
    "  \"jetNSecondaryVertices\",\n",
    "  \"jetNTracks\",\n",
    "  \"vertexNTracks_0\",\n",
    "    # Soft Leptons\n",
    "  \"leptonPtRel_0\",\"leptonPtRel_1\",\n",
    "  \"leptonSip3d_0\",\"leptonSip3d_1\",\n",
    "  \"leptonDeltaR_0\",\"leptonDeltaR_1\",\n",
    "  \"leptonRatioRel_0\",\"leptonRatioRel_1\",\n",
    "  \"leptonEtaRel_0\",\"leptonEtaRel_1\",\n",
    "  \"leptonRatio_0\",\"leptonRatio_1\",\n",
    "  ]"
   ]
  },
  {
   "cell_type": "markdown",
   "metadata": {
    "slideshow": {
     "slide_type": "slide"
    }
   },
   "source": [
    "## Discriminate charm-jets from light jets"
   ]
  },
  {
   "cell_type": "code",
   "execution_count": null,
   "metadata": {
    "collapsed": true,
    "slideshow": {
     "slide_type": "fragment"
    }
   },
   "outputs": [],
   "source": [
    "signal_files = [ # C = charm\n",
    "    \"/Users/Moortgat/Documents/VUB/PhD/CharmTagging/FlatTrees_SL_7_5_1/QCD/skimmed_20k_eachptetabin_CombinedSVNoVertex_C.root\",\n",
    "    \"/Users/Moortgat/Documents/VUB/PhD/CharmTagging/FlatTrees_SL_7_5_1/QCD/skimmed_20k_eachptetabin_CombinedSVPseudoVertex_C.root\",\n",
    "    \"/Users/Moortgat/Documents/VUB/PhD/CharmTagging/FlatTrees_SL_7_5_1/QCD/skimmed_20k_eachptetabin_CombinedSVRecoVertex_C.root\"\n",
    "    ]\n",
    "bckgr_files = [  # DUSG = light\n",
    "    \"/Users/Moortgat/Documents/VUB/PhD/CharmTagging/FlatTrees_SL_7_5_1/QCD/skimmed_20k_eachptetabin_CombinedSVNoVertex_DUSG.root\",\n",
    "    \"/Users/Moortgat/Documents/VUB/PhD/CharmTagging/FlatTrees_SL_7_5_1/QCD/skimmed_20k_eachptetabin_CombinedSVPseudoVertex_DUSG.root\",\n",
    "    \"/Users/Moortgat/Documents/VUB/PhD/CharmTagging/FlatTrees_SL_7_5_1/QCD/skimmed_20k_eachptetabin_CombinedSVRecoVertex_DUSG.root\"\n",
    "    ]"
   ]
  },
  {
   "cell_type": "code",
   "execution_count": null,
   "metadata": {
    "collapsed": false,
    "slideshow": {
     "slide_type": "subslide"
    }
   },
   "outputs": [],
   "source": [
    "print 'Merging and converting the samples'\n",
    "nfiles_per_sample = None\n",
    "skip_n_events = 300\n",
    "\n",
    "import root_numpy as rootnp\n",
    "\n",
    "#root_numpy.root2array(filenames, treename=None, branches=None, selection=None, start=None, stop=None, step=None, include_weight=False, weight_name='weight', cache_size=-1)\n",
    "signal_merged = np.ndarray((0,len(variables)),float)\n",
    "bckgr_merged = np.ndarray((0,len(variables)),float)\n",
    "for f_sig in signal_files:\n",
    "\tsignal = rootnp.root2array(f_sig,'tree',variables,None,0,nfiles_per_sample,skip_n_events,False,'weight')\n",
    "\tsignal = rootnp.rec2array(signal)\n",
    "\tsignal_merged = np.concatenate((signal_merged,signal),0)\n",
    "for f_bck in bckgr_files:\n",
    "\tbckgr = rootnp.root2array(f_bck,'tree',variables,None,0,nfiles_per_sample,skip_n_events,False,'weight')\n",
    "\tbckgr = rootnp.rec2array(bckgr)\n",
    "\tbckgr_merged = np.concatenate((bckgr_merged,bckgr),0)"
   ]
  },
  {
   "cell_type": "code",
   "execution_count": null,
   "metadata": {
    "collapsed": false,
    "slideshow": {
     "slide_type": "subslide"
    }
   },
   "outputs": [],
   "source": [
    "X = np.concatenate((signal_merged, bckgr_merged))\n",
    "y = np.concatenate((np.ones(signal_merged.shape[0]),np.zeros(bckgr_merged.shape[0])))\n",
    "print X[:2]\n",
    "print 'signal:',y[1], 'bckgr:', y[-1]"
   ]
  },
  {
   "cell_type": "markdown",
   "metadata": {
    "slideshow": {
     "slide_type": "slide"
    }
   },
   "source": [
    "## Apply weights from a branch called 'weight'"
   ]
  },
  {
   "cell_type": "code",
   "execution_count": null,
   "metadata": {
    "collapsed": false,
    "slideshow": {
     "slide_type": "fragment"
    }
   },
   "outputs": [],
   "source": [
    "print 'Getting event weights from the trees'\n",
    "# Get the weights\n",
    "weights = np.ones(0)\n",
    "for f_sig in signal_files:\n",
    "\tweights_sig = rootnp.root2array(f_sig,'tree','weight',None,0,nfiles_per_sample,skip_n_events,False,'weight')\n",
    "\tweights = np.concatenate((weights,weights_sig),0)\n",
    "for f_bck in bckgr_files:\t\n",
    "\tweights_bckgr = rootnp.root2array(f_bck,'tree','weight',None,0,nfiles_per_sample,skip_n_events,False,'weight')\n",
    "\tweights = np.concatenate((weights,weights_bckgr),0)"
   ]
  },
  {
   "cell_type": "markdown",
   "metadata": {
    "slideshow": {
     "slide_type": "slide"
    }
   },
   "source": [
    "## Step 1: Feature (variable) selection"
   ]
  },
  {
   "cell_type": "code",
   "execution_count": null,
   "metadata": {
    "collapsed": false,
    "slideshow": {
     "slide_type": "fragment"
    }
   },
   "outputs": [],
   "source": [
    "import time\n",
    "from sklearn.ensemble import RandomForestClassifier \n",
    "#BDT with 10 trees, minimum 10 events to split a node, running 5 jobs at the same time\n",
    "clf = RandomForestClassifier(n_estimators=10,min_samples_split = 10,n_jobs = 1,verbose = 0)\n",
    "from sklearn.feature_selection import RFE\n",
    "# select the top 20 features \n",
    "feature_selector = RFE(clf, n_features_to_select=20, verbose=1)"
   ]
  },
  {
   "cell_type": "code",
   "execution_count": null,
   "metadata": {
    "collapsed": false,
    "slideshow": {
     "slide_type": "fragment"
    }
   },
   "outputs": [],
   "source": [
    "start = time.time()\n",
    "feature_selector.fit(X, y)\n",
    "end = time.time()\n",
    "print 'training completed --> Elapsed time: ' , (end-start)/60 ,  'minutes'"
   ]
  },
  {
   "cell_type": "code",
   "execution_count": null,
   "metadata": {
    "collapsed": false,
    "slideshow": {
     "slide_type": "subslide"
    }
   },
   "outputs": [],
   "source": [
    "# print the final set of parameters\n",
    "print 'variables = ['\n",
    "for idx,ft in enumerate(feature_selector.get_support()):\n",
    "\tif ft:\n",
    "\t\tprint '\\t\\''+variables[idx]+'\\','\n",
    "print ']'\t\t"
   ]
  },
  {
   "cell_type": "code",
   "execution_count": null,
   "metadata": {
    "collapsed": true,
    "slideshow": {
     "slide_type": "fragment"
    }
   },
   "outputs": [],
   "source": [
    "variables = [\n",
    "\t'trackSip2dSig_0',\n",
    "\t'trackSip2dSig_1',\n",
    "\t'trackSip3dSig_0',\n",
    "\t'trackSip3dSig_1',\n",
    "\t'trackPtRel_0',\n",
    "\t'trackPPar_0',\n",
    "\t'trackPPar_1',\n",
    "\t'trackDeltaR_0',\n",
    "\t'trackDeltaR_1',\n",
    "\t'trackPtRatio_0',\n",
    "\t'trackJetDist_0',\n",
    "\t'trackJetDist_1',\n",
    "\t'trackDecayLenVal_0',\n",
    "\t'trackDecayLenVal_1',\n",
    "\t'trackSip2dSigAboveCharm_0',\n",
    "\t'trackSip3dSigAboveCharm_0',\n",
    "\t'trackSumJetEtRatio',\n",
    "\t'trackSumJetDeltaR',\n",
    "\t'flightDistance3dSig_0',\n",
    "\t'vertexBoostOverSqrtJetPt_0',\n",
    "]"
   ]
  },
  {
   "cell_type": "code",
   "execution_count": null,
   "metadata": {
    "collapsed": false,
    "slideshow": {
     "slide_type": "subslide"
    }
   },
   "outputs": [],
   "source": [
    "print 'Merging and converting the samples'\n",
    "nfiles_per_sample = None\n",
    "skip_n_events = 300\n",
    "\n",
    "import root_numpy as rootnp\n",
    "\n",
    "#root_numpy.root2array(filenames, treename=None, branches=None, selection=None, start=None, stop=None, step=None, include_weight=False, weight_name='weight', cache_size=-1)\n",
    "signal_merged = np.ndarray((0,len(variables)),float)\n",
    "bckgr_merged = np.ndarray((0,len(variables)),float)\n",
    "for f_sig in signal_files:\n",
    "\tsignal = rootnp.root2array(f_sig,'tree',variables,None,0,nfiles_per_sample,skip_n_events,False,'weight')\n",
    "\tsignal = rootnp.rec2array(signal)\n",
    "\tsignal_merged = np.concatenate((signal_merged,signal),0)\n",
    "for f_bck in bckgr_files:\n",
    "\tbckgr = rootnp.root2array(f_bck,'tree',variables,None,0,nfiles_per_sample,skip_n_events,False,'weight')\n",
    "\tbckgr = rootnp.rec2array(bckgr)\n",
    "\tbckgr_merged = np.concatenate((bckgr_merged,bckgr),0)\n",
    "    \n",
    "X = np.concatenate((signal_merged, bckgr_merged))\n",
    "y = np.concatenate((np.ones(signal_merged.shape[0]),np.zeros(bckgr_merged.shape[0])))"
   ]
  },
  {
   "cell_type": "markdown",
   "metadata": {
    "slideshow": {
     "slide_type": "slide"
    }
   },
   "source": [
    "# Now run a training on a more advanced tree with these variables"
   ]
  },
  {
   "cell_type": "code",
   "execution_count": null,
   "metadata": {
    "collapsed": false,
    "slideshow": {
     "slide_type": "fragment"
    }
   },
   "outputs": [],
   "source": [
    "clf = RandomForestClassifier(n_estimators=100,min_samples_split = 50,n_jobs = 1, verbose = 3)\n",
    "clf.fit(X, y,weights)"
   ]
  },
  {
   "cell_type": "markdown",
   "metadata": {
    "slideshow": {
     "slide_type": "slide"
    }
   },
   "source": [
    "# Run validation on a different set of samples"
   ]
  },
  {
   "cell_type": "code",
   "execution_count": null,
   "metadata": {
    "collapsed": false,
    "slideshow": {
     "slide_type": "fragment"
    }
   },
   "outputs": [],
   "source": [
    "val_signal_files = [\n",
    "    \"/Users/Moortgat/Documents/VUB/PhD/CharmTagging/FlatTrees_SL_7_5_1/TTbar/CombinedSVNoVertex_C.root\",\n",
    "    \"/Users/Moortgat/Documents/VUB/PhD/CharmTagging/FlatTrees_SL_7_5_1/TTbar/CombinedSVPseudoVertex_C.root\",\n",
    "    \"/Users/Moortgat/Documents/VUB/PhD/CharmTagging/FlatTrees_SL_7_5_1/TTbar/CombinedSVRecoVertex_C.root\"\n",
    "    ] \n",
    "val_bckgr_files = [\n",
    "    \"/Users/Moortgat/Documents/VUB/PhD/CharmTagging/FlatTrees_SL_7_5_1/TTbar/CombinedSVNoVertex_DUSG.root\",\n",
    "    \"/Users/Moortgat/Documents/VUB/PhD/CharmTagging/FlatTrees_SL_7_5_1/TTbar/CombinedSVPseudoVertex_DUSG.root\",\n",
    "    \"/Users/Moortgat/Documents/VUB/PhD/CharmTagging/FlatTrees_SL_7_5_1/TTbar/CombinedSVRecoVertex_DUSG.root\"\n",
    "    ]\n",
    "\n",
    "\n",
    "print 'Starting validation'\n",
    "skip_n_events = 10\n",
    "\n",
    "#root_numpy.root2array(filenames, treename=None, branches=None, selection=None, start=None, stop=None, step=None, include_weight=False, weight_name='weight', cache_size=-1)\n",
    "val_signal_merged = np.ndarray((0,len(variables)),float)\n",
    "val_bckgr_merged = np.ndarray((0,len(variables)),float)\n",
    "for f_sig in val_signal_files:\n",
    "\tval_signal = rootnp.root2array(f_sig,'tree',variables,None,0,nfiles_per_sample,skip_n_events,False,'weight')\n",
    "\tval_signal = rootnp.rec2array(val_signal)\n",
    "\tval_signal_merged = np.concatenate((val_signal_merged,val_signal),0)\n",
    "for f_bck in val_bckgr_files:\t\n",
    "\tval_bckgr = rootnp.root2array(f_bck,'tree',variables,None,0,nfiles_per_sample,skip_n_events,False,'weight')\n",
    "\tval_bckgr = rootnp.rec2array(val_bckgr)\n",
    "\tval_bckgr_merged = np.concatenate((val_bckgr_merged,val_bckgr),0)\n",
    "\n",
    "X_val = np.concatenate((val_signal_merged, val_bckgr_merged))\n",
    "y_val = np.concatenate((np.ones(val_signal_merged.shape[0]),np.zeros(val_bckgr_merged.shape[0])))"
   ]
  },
  {
   "cell_type": "code",
   "execution_count": null,
   "metadata": {
    "collapsed": false,
    "slideshow": {
     "slide_type": "subslide"
    }
   },
   "outputs": [],
   "source": [
    "from sklearn.metrics import roc_curve\n",
    "fpr, tpr, thresholds = roc_curve(y_val, clf.predict_proba(X_val)[:, 1])\n",
    "plt.semilogy(tpr, fpr,label='RFC, ntrees = 500')\n",
    "plt.ylabel(\"Light Efficiency\")\n",
    "plt.xlabel(\"Charm Efficiency\")\n",
    "plt.legend(loc='best')\n",
    "plt.grid(True)\n",
    "plt.show()"
   ]
  },
  {
   "cell_type": "code",
   "execution_count": null,
   "metadata": {
    "collapsed": true
   },
   "outputs": [],
   "source": []
  }
 ],
 "metadata": {
  "celltoolbar": "Slideshow",
  "kernelspec": {
   "display_name": "Python 2",
   "language": "python",
   "name": "python2"
  },
  "language_info": {
   "codemirror_mode": {
    "name": "ipython",
    "version": 2
   },
   "file_extension": ".py",
   "mimetype": "text/x-python",
   "name": "python",
   "nbconvert_exporter": "python",
   "pygments_lexer": "ipython2",
   "version": "2.7.10"
  }
 },
 "nbformat": 4,
 "nbformat_minor": 0
}
